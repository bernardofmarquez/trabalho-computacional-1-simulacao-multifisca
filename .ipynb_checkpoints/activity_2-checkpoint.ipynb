{
 "cells": [
  {
   "cell_type": "code",
   "execution_count": 1,
   "id": "cc03571e",
   "metadata": {
    "vscode": {
     "languageId": "plaintext"
    }
   },
   "outputs": [],
   "source": [
    "import numpy as np\n",
    "\n",
    "# Parameters\n",
    "m = 0.068 # (Kg)\n",
    "g = 9.81 #(m/s^2)\n",
    "k = 2*3.2654e-5 #(Nm^2/A^2) \n",
    "x0 = 7.3e-3 #(m)\n",
    "i0 = 1.0 #(A)\n",
    "R = 1.0 #(Ohm)\n",
    "u0 = R*i0\n",
    "\n",
    "# Magnetic force fm\n",
    "def fm(i,x):\n",
    "    return k/2*i*i/x/x\n",
    "# Force Factor\n",
    "def Bl(i,x):\n",
    "     return k/2*i/x/x #(N/A)\n",
    "# Inductance\n",
    "def L(x):\n",
    "     return k/x #(H)\n",
    "\n",
    "\n",
    "# State space representation in vector form\n",
    "# dy = y´ = function(y,t)\n",
    "# y = [i,x,v,E]\n",
    "\n",
    "# PID controller's parameters\n",
    "kp=250\n",
    "kd=10\n",
    "ki=20\n",
    "\n",
    "# PID controller\n",
    "def pid_controller(e, v, E):\n",
    "    return kp * e + ki * E + kd * v\n",
    "\n",
    "# State space representation\n",
    "def f(t,y):\n",
    "    i,x,v, E = y\n",
    "\n",
    "    # Additive noise with a zero-mean normal distribution\n",
    "    noise = np.random.normal(0, 0.03*x0, 1)[0]\n",
    "    \n",
    "    # Error\n",
    "    e = x - x0 + noise\n",
    "\n",
    "    pid_controller_output = pid_controller(e, v, E)\n",
    "\n",
    "    #di/dt\n",
    "    di = -R/L(x)*i - Bl(i,x)/L(x)*v + (u0+pid_controller_output)/L(x)\n",
    "    \n",
    "    #dx/dt\n",
    "    dx = v\n",
    "    \n",
    "    #dv/dt\n",
    "    dv = g-fm(i,x)/m\n",
    "    \n",
    "    #dE/dt\n",
    "    dE = e\n",
    "    \n",
    "    \n",
    "    return [di, dx, dv, dE]"
   ]
  },
  {
   "cell_type": "code",
   "execution_count": 2,
   "id": "77bbee14-80a8-491f-be19-c202ce00ecfc",
   "metadata": {},
   "outputs": [
    {
     "ename": "NameError",
     "evalue": "name 'np' is not defined",
     "output_type": "error",
     "traceback": [
      "\u001b[0;31m---------------------------------------------------------------------------\u001b[0m",
      "\u001b[0;31mNameError\u001b[0m                                 Traceback (most recent call last)",
      "Cell \u001b[0;32mIn[2], line 15\u001b[0m\n\u001b[1;32m     12\u001b[0m t_0 \u001b[38;5;241m=\u001b[39m \u001b[38;5;241m0.0\u001b[39m\n\u001b[1;32m     13\u001b[0m t_end \u001b[38;5;241m=\u001b[39m \u001b[38;5;241m10\u001b[39m \u001b[38;5;66;03m#(s) \u001b[39;00m\n\u001b[0;32m---> 15\u001b[0m sol \u001b[38;5;241m=\u001b[39m solve_ivp(f, [t_0, t_end],y_0)\n",
      "File \u001b[0;32m/opt/anaconda3/lib/python3.13/site-packages/scipy/integrate/_ivp/ivp.py:621\u001b[0m, in \u001b[0;36msolve_ivp\u001b[0;34m(fun, t_span, y0, method, t_eval, dense_output, events, vectorized, args, **options)\u001b[0m\n\u001b[1;32m    618\u001b[0m \u001b[38;5;28;01mif\u001b[39;00m method \u001b[38;5;129;01min\u001b[39;00m METHODS:\n\u001b[1;32m    619\u001b[0m     method \u001b[38;5;241m=\u001b[39m METHODS[method]\n\u001b[0;32m--> 621\u001b[0m solver \u001b[38;5;241m=\u001b[39m method(fun, t0, y0, tf, vectorized\u001b[38;5;241m=\u001b[39mvectorized, \u001b[38;5;241m*\u001b[39m\u001b[38;5;241m*\u001b[39moptions)\n\u001b[1;32m    623\u001b[0m \u001b[38;5;28;01mif\u001b[39;00m t_eval \u001b[38;5;129;01mis\u001b[39;00m \u001b[38;5;28;01mNone\u001b[39;00m:\n\u001b[1;32m    624\u001b[0m     ts \u001b[38;5;241m=\u001b[39m [t0]\n",
      "File \u001b[0;32m/opt/anaconda3/lib/python3.13/site-packages/scipy/integrate/_ivp/rk.py:94\u001b[0m, in \u001b[0;36mRungeKutta.__init__\u001b[0;34m(self, fun, t0, y0, t_bound, max_step, rtol, atol, vectorized, first_step, **extraneous)\u001b[0m\n\u001b[1;32m     92\u001b[0m \u001b[38;5;28mself\u001b[39m\u001b[38;5;241m.\u001b[39mmax_step \u001b[38;5;241m=\u001b[39m validate_max_step(max_step)\n\u001b[1;32m     93\u001b[0m \u001b[38;5;28mself\u001b[39m\u001b[38;5;241m.\u001b[39mrtol, \u001b[38;5;28mself\u001b[39m\u001b[38;5;241m.\u001b[39matol \u001b[38;5;241m=\u001b[39m validate_tol(rtol, atol, \u001b[38;5;28mself\u001b[39m\u001b[38;5;241m.\u001b[39mn)\n\u001b[0;32m---> 94\u001b[0m \u001b[38;5;28mself\u001b[39m\u001b[38;5;241m.\u001b[39mf \u001b[38;5;241m=\u001b[39m \u001b[38;5;28mself\u001b[39m\u001b[38;5;241m.\u001b[39mfun(\u001b[38;5;28mself\u001b[39m\u001b[38;5;241m.\u001b[39mt, \u001b[38;5;28mself\u001b[39m\u001b[38;5;241m.\u001b[39my)\n\u001b[1;32m     95\u001b[0m \u001b[38;5;28;01mif\u001b[39;00m first_step \u001b[38;5;129;01mis\u001b[39;00m \u001b[38;5;28;01mNone\u001b[39;00m:\n\u001b[1;32m     96\u001b[0m     \u001b[38;5;28mself\u001b[39m\u001b[38;5;241m.\u001b[39mh_abs \u001b[38;5;241m=\u001b[39m select_initial_step(\n\u001b[1;32m     97\u001b[0m         \u001b[38;5;28mself\u001b[39m\u001b[38;5;241m.\u001b[39mfun, \u001b[38;5;28mself\u001b[39m\u001b[38;5;241m.\u001b[39mt, \u001b[38;5;28mself\u001b[39m\u001b[38;5;241m.\u001b[39my, t_bound, max_step, \u001b[38;5;28mself\u001b[39m\u001b[38;5;241m.\u001b[39mf, \u001b[38;5;28mself\u001b[39m\u001b[38;5;241m.\u001b[39mdirection,\n\u001b[1;32m     98\u001b[0m         \u001b[38;5;28mself\u001b[39m\u001b[38;5;241m.\u001b[39merror_estimator_order, \u001b[38;5;28mself\u001b[39m\u001b[38;5;241m.\u001b[39mrtol, \u001b[38;5;28mself\u001b[39m\u001b[38;5;241m.\u001b[39matol)\n",
      "File \u001b[0;32m/opt/anaconda3/lib/python3.13/site-packages/scipy/integrate/_ivp/base.py:154\u001b[0m, in \u001b[0;36mOdeSolver.__init__.<locals>.fun\u001b[0;34m(t, y)\u001b[0m\n\u001b[1;32m    152\u001b[0m \u001b[38;5;28;01mdef\u001b[39;00m\u001b[38;5;250m \u001b[39m\u001b[38;5;21mfun\u001b[39m(t, y):\n\u001b[1;32m    153\u001b[0m     \u001b[38;5;28mself\u001b[39m\u001b[38;5;241m.\u001b[39mnfev \u001b[38;5;241m+\u001b[39m\u001b[38;5;241m=\u001b[39m \u001b[38;5;241m1\u001b[39m\n\u001b[0;32m--> 154\u001b[0m     \u001b[38;5;28;01mreturn\u001b[39;00m \u001b[38;5;28mself\u001b[39m\u001b[38;5;241m.\u001b[39mfun_single(t, y)\n",
      "File \u001b[0;32m/opt/anaconda3/lib/python3.13/site-packages/scipy/integrate/_ivp/base.py:23\u001b[0m, in \u001b[0;36mcheck_arguments.<locals>.fun_wrapped\u001b[0;34m(t, y)\u001b[0m\n\u001b[1;32m     22\u001b[0m \u001b[38;5;28;01mdef\u001b[39;00m\u001b[38;5;250m \u001b[39m\u001b[38;5;21mfun_wrapped\u001b[39m(t, y):\n\u001b[0;32m---> 23\u001b[0m     \u001b[38;5;28;01mreturn\u001b[39;00m np\u001b[38;5;241m.\u001b[39masarray(fun(t, y), dtype\u001b[38;5;241m=\u001b[39mdtype)\n",
      "Cell \u001b[0;32mIn[1], line 39\u001b[0m, in \u001b[0;36mf\u001b[0;34m(t, y)\u001b[0m\n\u001b[1;32m     36\u001b[0m i,x,v, E \u001b[38;5;241m=\u001b[39m y\n\u001b[1;32m     38\u001b[0m \u001b[38;5;66;03m# Additive noise with a zero-mean normal distribution\u001b[39;00m\n\u001b[0;32m---> 39\u001b[0m noise \u001b[38;5;241m=\u001b[39m np\u001b[38;5;241m.\u001b[39mrandom\u001b[38;5;241m.\u001b[39mnormal(\u001b[38;5;241m0\u001b[39m, \u001b[38;5;241m0.03\u001b[39m\u001b[38;5;241m*\u001b[39mx0, \u001b[38;5;241m1\u001b[39m)[\u001b[38;5;241m0\u001b[39m]\n\u001b[1;32m     41\u001b[0m \u001b[38;5;66;03m# Error\u001b[39;00m\n\u001b[1;32m     42\u001b[0m e \u001b[38;5;241m=\u001b[39m x \u001b[38;5;241m-\u001b[39m x0 \u001b[38;5;241m+\u001b[39m noise\n",
      "\u001b[0;31mNameError\u001b[0m: name 'np' is not defined"
     ]
    }
   ],
   "source": [
    "from scipy.integrate import solve_ivp\n",
    "\n",
    "# Disturbance percentage\n",
    "disturbance_percentage = 0.02\n",
    "disturbance = x0 * disturbance_percentage\n",
    "\n",
    "# Initial conditions\n",
    "# y = [i,x,v,E]\n",
    "y_0 = [i0,x0+disturbance,0.0, 0]\n",
    "\n",
    "# Time span\n",
    "t_0 = 0.0\n",
    "t_end = 10 #(s) \n",
    "\n",
    "sol = solve_ivp(f, [t_0, t_end],y_0)"
   ]
  },
  {
   "cell_type": "code",
   "execution_count": null,
   "id": "e26c73dd-55f9-41e4-a158-3bc71fc918ff",
   "metadata": {},
   "outputs": [],
   "source": [
    "import matplotlib.pyplot as plt\n",
    "\n",
    "# --- Position plot --- \n",
    "fig = plt.figure(figsize=(15,4))\n",
    "plt.subplot(1, 2, 1)\n",
    "plt.plot(sol.t, sol.y[1,:]-x0, 'k', linewidth=2); \n",
    "plt.grid(True);\n",
    "plt.xlabel('$t$ (s)');\n",
    "plt.ylabel('$x(t)-x_0$ (m)');\n",
    "fig.suptitle('Fig. 1 - Dados da esfera');\n",
    "\n",
    "plt.subplot(1, 2, 2)\n",
    "plt.plot(sol.t, sol.y[2,:], 'k', linewidth=2); \n",
    "plt.grid(True);\n",
    "plt.xlabel('$t$ (s)');\n",
    "plt.ylabel('$v(t)$ (m)');\n",
    "\n",
    "# --- Source plot ---\n",
    "fig = plt.figure(figsize=(15,4))\n",
    "plt.subplot(1, 2, 1)\n",
    "plt.plot(sol.t, sol.y[0,:], 'k', linewidth=2); \n",
    "plt.grid(True);\n",
    "plt.xlabel('$t$ (s)');\n",
    "plt.ylabel('$i(t)$ (A)');\n",
    "fig.suptitle('Fig. 2 - Dados da fonte');"
   ]
  }
 ],
 "metadata": {
  "kernelspec": {
   "display_name": "Python 3 (ipykernel)",
   "language": "python",
   "name": "python3"
  },
  "language_info": {
   "codemirror_mode": {
    "name": "ipython",
    "version": 3
   },
   "file_extension": ".py",
   "mimetype": "text/x-python",
   "name": "python",
   "nbconvert_exporter": "python",
   "pygments_lexer": "ipython3",
   "version": "3.13.5"
  }
 },
 "nbformat": 4,
 "nbformat_minor": 5
}
